{
 "cells": [
  {
   "cell_type": "code",
   "execution_count": 61,
   "metadata": {
    "ExecuteTime": {
     "end_time": "2021-04-19T02:56:52.453409Z",
     "start_time": "2021-04-19T02:56:52.440906Z"
    }
   },
   "outputs": [],
   "source": [
    "from Model.ModelInterface import ModelInterface\n",
    "from TM_members_study.Esmond import financial_data as fd\n",
    "import pandas as pd\n",
    "import sklearn.metrics as metrics\n",
    "import numpy as np\n",
    "from package.HmmTSModel import HmmTimeSeriesModel\n",
    "import seaborn as sns\n",
    "import matplotlib.pyplot as plt\n",
    "import plotly.express as px\n",
    "import pandas as pd\n",
    "import numpy as np\n",
    "from sklearn.mixture import GaussianMixture as GMM\n",
    "import plotly.graph_objects as go\n",
    "from plotly.subplots import make_subplots\n",
    "from scipy.stats import norm\n",
    "from scipy.stats import poisson\n",
    "import warnings\n",
    "warnings.filterwarnings(\"ignore\")\n",
    "\n",
    "\n",
    "def train_model(model: ModelInterface, data: pd.DataFrame):\n",
    "    model.fit(data)\n",
    "\n",
    "\n",
    "def test_model(model: ModelInterface, data: pd.DataFrame, score: metrics = metrics.r2_score):\n",
    "    test_data_ = data.dropna().copy()\n",
    "    projection = model.project(test_data_)\n",
    "    test_data_ = test_data_[['close']][:-1]\n",
    "    test_data_['projection'] = projection\n",
    "    #display(test_data_)\n",
    "    returns_data = log_returns(test_data_)#['Close'].values.flatten().tolist()[1:]\n",
    "    #print(returns_data)\n",
    "    data_list = returns_data['close'].values.flatten().tolist()\n",
    "    returns_data = returns_data['projection'].values.flatten().tolist()\n",
    "    return np.round(score(data_list, returns_data), 3)\n",
    "\n",
    "\n",
    "def rolling_window_validation(model: ModelInterface, data: pd.DataFrame,\n",
    "                              window_size: int = 253, horizon: int = 5, stride: int = 21):\n",
    "\n",
    "    output_array = []\n",
    "    current_index, row_count = 0, 0\n",
    "    while current_index + window_size + horizon < len(data.index):\n",
    "        start, mid, end = current_index, current_index + window_size, current_index + window_size + horizon\n",
    "        training_data, test_data = data[start:mid], data[mid-1:end]\n",
    "        train_model(model, training_data)\n",
    "        testing_variance, score = test_data.var(), test_model(model, test_data)\n",
    "        output_array.append([data.index[start], data.index[mid], data.index[end], testing_variance, score])\n",
    "        current_index += stride\n",
    "        print(score)\n",
    "    return pd.DataFrame(data=output_array, columns=[\"start\", \"mid\", \"end\", \"test_var\", \"score\"])\n",
    "\n",
    "\n",
    "def log_returns(data: pd.DataFrame):\n",
    "    return np.log1p(data.pct_change()).dropna()\n",
    "\n",
    "\n"
   ]
  },
  {
   "cell_type": "code",
   "execution_count": 65,
   "metadata": {
    "ExecuteTime": {
     "end_time": "2021-04-19T03:15:35.210842Z",
     "start_time": "2021-04-19T03:02:33.132045Z"
    },
    "scrolled": true
   },
   "outputs": [
    {
     "name": "stdout",
     "output_type": "stream",
     "text": [
      "\r",
      "[*********************100%***********************]  1 of 1 completed"
     ]
    },
    {
     "name": "stderr",
     "output_type": "stream",
     "text": [
      "\r",
      "  0%|          | 0/5 [00:00<?, ?it/s]"
     ]
    },
    {
     "name": "stdout",
     "output_type": "stream",
     "text": [
      "\n"
     ]
    },
    {
     "name": "stderr",
     "output_type": "stream",
     "text": [
      "100%|██████████| 5/5 [00:32<00:00,  6.46s/it]\n",
      "Even though the 'startprob_' attribute is set, it will be overwritten during initialization because 'init_params' contains 's'\n",
      "Even though the 'transmat_' attribute is set, it will be overwritten during initialization because 'init_params' contains 't'\n",
      "Even though the 'means_' attribute is set, it will be overwritten during initialization because 'init_params' contains 'm'\n",
      "Even though the 'covars_' attribute is set, it will be overwritten during initialization because 'init_params' contains 'c'\n",
      "  0%|          | 0/5 [00:00<?, ?it/s]"
     ]
    },
    {
     "name": "stdout",
     "output_type": "stream",
     "text": [
      "0.661\n"
     ]
    },
    {
     "name": "stderr",
     "output_type": "stream",
     "text": [
      "100%|██████████| 5/5 [00:29<00:00,  5.84s/it]\n",
      "Even though the 'startprob_' attribute is set, it will be overwritten during initialization because 'init_params' contains 's'\n",
      "Even though the 'transmat_' attribute is set, it will be overwritten during initialization because 'init_params' contains 't'\n",
      "Even though the 'means_' attribute is set, it will be overwritten during initialization because 'init_params' contains 'm'\n",
      "Even though the 'covars_' attribute is set, it will be overwritten during initialization because 'init_params' contains 'c'\n",
      "  0%|          | 0/5 [00:00<?, ?it/s]"
     ]
    },
    {
     "name": "stdout",
     "output_type": "stream",
     "text": [
      "-0.491\n"
     ]
    },
    {
     "name": "stderr",
     "output_type": "stream",
     "text": [
      "100%|██████████| 5/5 [00:29<00:00,  5.83s/it]\n",
      "Even though the 'startprob_' attribute is set, it will be overwritten during initialization because 'init_params' contains 's'\n",
      "Even though the 'transmat_' attribute is set, it will be overwritten during initialization because 'init_params' contains 't'\n",
      "Even though the 'means_' attribute is set, it will be overwritten during initialization because 'init_params' contains 'm'\n",
      "Even though the 'covars_' attribute is set, it will be overwritten during initialization because 'init_params' contains 'c'\n",
      "  0%|          | 0/5 [00:00<?, ?it/s]"
     ]
    },
    {
     "name": "stdout",
     "output_type": "stream",
     "text": [
      "0.662\n"
     ]
    },
    {
     "name": "stderr",
     "output_type": "stream",
     "text": [
      "100%|██████████| 5/5 [00:29<00:00,  5.82s/it]\n",
      "Even though the 'startprob_' attribute is set, it will be overwritten during initialization because 'init_params' contains 's'\n",
      "Even though the 'transmat_' attribute is set, it will be overwritten during initialization because 'init_params' contains 't'\n",
      "Even though the 'means_' attribute is set, it will be overwritten during initialization because 'init_params' contains 'm'\n",
      "Even though the 'covars_' attribute is set, it will be overwritten during initialization because 'init_params' contains 'c'\n",
      "  0%|          | 0/5 [00:00<?, ?it/s]"
     ]
    },
    {
     "name": "stdout",
     "output_type": "stream",
     "text": [
      "0.551\n"
     ]
    },
    {
     "name": "stderr",
     "output_type": "stream",
     "text": [
      "100%|██████████| 5/5 [00:29<00:00,  5.85s/it]\n",
      "Even though the 'startprob_' attribute is set, it will be overwritten during initialization because 'init_params' contains 's'\n",
      "Even though the 'transmat_' attribute is set, it will be overwritten during initialization because 'init_params' contains 't'\n",
      "Even though the 'means_' attribute is set, it will be overwritten during initialization because 'init_params' contains 'm'\n",
      "Even though the 'covars_' attribute is set, it will be overwritten during initialization because 'init_params' contains 'c'\n",
      "  0%|          | 0/5 [00:00<?, ?it/s]"
     ]
    },
    {
     "name": "stdout",
     "output_type": "stream",
     "text": [
      "0.154\n"
     ]
    },
    {
     "name": "stderr",
     "output_type": "stream",
     "text": [
      "100%|██████████| 5/5 [00:29<00:00,  5.89s/it]\n",
      "Even though the 'startprob_' attribute is set, it will be overwritten during initialization because 'init_params' contains 's'\n",
      "Even though the 'transmat_' attribute is set, it will be overwritten during initialization because 'init_params' contains 't'\n",
      "Even though the 'means_' attribute is set, it will be overwritten during initialization because 'init_params' contains 'm'\n",
      "Even though the 'covars_' attribute is set, it will be overwritten during initialization because 'init_params' contains 'c'\n",
      "  0%|          | 0/5 [00:00<?, ?it/s]"
     ]
    },
    {
     "name": "stdout",
     "output_type": "stream",
     "text": [
      "0.081\n"
     ]
    },
    {
     "name": "stderr",
     "output_type": "stream",
     "text": [
      "100%|██████████| 5/5 [00:29<00:00,  5.91s/it]\n",
      "Even though the 'startprob_' attribute is set, it will be overwritten during initialization because 'init_params' contains 's'\n",
      "Even though the 'transmat_' attribute is set, it will be overwritten during initialization because 'init_params' contains 't'\n",
      "Even though the 'means_' attribute is set, it will be overwritten during initialization because 'init_params' contains 'm'\n",
      "Even though the 'covars_' attribute is set, it will be overwritten during initialization because 'init_params' contains 'c'\n",
      "  0%|          | 0/5 [00:00<?, ?it/s]"
     ]
    },
    {
     "name": "stdout",
     "output_type": "stream",
     "text": [
      "0.906\n"
     ]
    },
    {
     "name": "stderr",
     "output_type": "stream",
     "text": [
      "100%|██████████| 5/5 [00:29<00:00,  5.92s/it]\n",
      "Even though the 'startprob_' attribute is set, it will be overwritten during initialization because 'init_params' contains 's'\n",
      "Even though the 'transmat_' attribute is set, it will be overwritten during initialization because 'init_params' contains 't'\n",
      "Even though the 'means_' attribute is set, it will be overwritten during initialization because 'init_params' contains 'm'\n",
      "Even though the 'covars_' attribute is set, it will be overwritten during initialization because 'init_params' contains 'c'\n",
      "  0%|          | 0/5 [00:00<?, ?it/s]"
     ]
    },
    {
     "name": "stdout",
     "output_type": "stream",
     "text": [
      "0.007\n"
     ]
    },
    {
     "name": "stderr",
     "output_type": "stream",
     "text": [
      "100%|██████████| 5/5 [00:29<00:00,  5.93s/it]\n",
      "Even though the 'startprob_' attribute is set, it will be overwritten during initialization because 'init_params' contains 's'\n",
      "Even though the 'transmat_' attribute is set, it will be overwritten during initialization because 'init_params' contains 't'\n",
      "Even though the 'means_' attribute is set, it will be overwritten during initialization because 'init_params' contains 'm'\n",
      "Even though the 'covars_' attribute is set, it will be overwritten during initialization because 'init_params' contains 'c'\n",
      "  0%|          | 0/5 [00:00<?, ?it/s]"
     ]
    },
    {
     "name": "stdout",
     "output_type": "stream",
     "text": [
      "0.276\n"
     ]
    },
    {
     "name": "stderr",
     "output_type": "stream",
     "text": [
      "100%|██████████| 5/5 [00:29<00:00,  5.95s/it]\n",
      "Even though the 'startprob_' attribute is set, it will be overwritten during initialization because 'init_params' contains 's'\n",
      "Even though the 'transmat_' attribute is set, it will be overwritten during initialization because 'init_params' contains 't'\n",
      "Even though the 'means_' attribute is set, it will be overwritten during initialization because 'init_params' contains 'm'\n",
      "Even though the 'covars_' attribute is set, it will be overwritten during initialization because 'init_params' contains 'c'\n",
      "  0%|          | 0/5 [00:00<?, ?it/s]"
     ]
    },
    {
     "name": "stdout",
     "output_type": "stream",
     "text": [
      "0.559\n"
     ]
    },
    {
     "name": "stderr",
     "output_type": "stream",
     "text": [
      "100%|██████████| 5/5 [00:29<00:00,  5.99s/it]\n",
      "Even though the 'startprob_' attribute is set, it will be overwritten during initialization because 'init_params' contains 's'\n",
      "Even though the 'transmat_' attribute is set, it will be overwritten during initialization because 'init_params' contains 't'\n",
      "Even though the 'means_' attribute is set, it will be overwritten during initialization because 'init_params' contains 'm'\n",
      "Even though the 'covars_' attribute is set, it will be overwritten during initialization because 'init_params' contains 'c'\n",
      "  0%|          | 0/5 [00:00<?, ?it/s]"
     ]
    },
    {
     "name": "stdout",
     "output_type": "stream",
     "text": [
      "-1.906\n"
     ]
    },
    {
     "name": "stderr",
     "output_type": "stream",
     "text": [
      "100%|██████████| 5/5 [00:32<00:00,  6.58s/it]\n",
      "Even though the 'startprob_' attribute is set, it will be overwritten during initialization because 'init_params' contains 's'\n",
      "Even though the 'transmat_' attribute is set, it will be overwritten during initialization because 'init_params' contains 't'\n",
      "Even though the 'means_' attribute is set, it will be overwritten during initialization because 'init_params' contains 'm'\n",
      "Even though the 'covars_' attribute is set, it will be overwritten during initialization because 'init_params' contains 'c'\n",
      "  0%|          | 0/5 [00:00<?, ?it/s]"
     ]
    },
    {
     "name": "stdout",
     "output_type": "stream",
     "text": [
      "0.308\n"
     ]
    },
    {
     "name": "stderr",
     "output_type": "stream",
     "text": [
      "100%|██████████| 5/5 [00:32<00:00,  6.55s/it]\n",
      "Even though the 'startprob_' attribute is set, it will be overwritten during initialization because 'init_params' contains 's'\n",
      "Even though the 'transmat_' attribute is set, it will be overwritten during initialization because 'init_params' contains 't'\n",
      "Even though the 'means_' attribute is set, it will be overwritten during initialization because 'init_params' contains 'm'\n",
      "Even though the 'covars_' attribute is set, it will be overwritten during initialization because 'init_params' contains 'c'\n",
      "  0%|          | 0/5 [00:00<?, ?it/s]"
     ]
    },
    {
     "name": "stdout",
     "output_type": "stream",
     "text": [
      "0.309\n"
     ]
    },
    {
     "name": "stderr",
     "output_type": "stream",
     "text": [
      "100%|██████████| 5/5 [00:32<00:00,  6.60s/it]\n",
      "Even though the 'startprob_' attribute is set, it will be overwritten during initialization because 'init_params' contains 's'\n",
      "Even though the 'transmat_' attribute is set, it will be overwritten during initialization because 'init_params' contains 't'\n",
      "Even though the 'means_' attribute is set, it will be overwritten during initialization because 'init_params' contains 'm'\n",
      "Even though the 'covars_' attribute is set, it will be overwritten during initialization because 'init_params' contains 'c'\n",
      "  0%|          | 0/5 [00:00<?, ?it/s]"
     ]
    },
    {
     "name": "stdout",
     "output_type": "stream",
     "text": [
      "0.257\n"
     ]
    },
    {
     "name": "stderr",
     "output_type": "stream",
     "text": [
      "100%|██████████| 5/5 [00:29<00:00,  5.91s/it]\n",
      "Even though the 'startprob_' attribute is set, it will be overwritten during initialization because 'init_params' contains 's'\n",
      "Even though the 'transmat_' attribute is set, it will be overwritten during initialization because 'init_params' contains 't'\n",
      "Even though the 'means_' attribute is set, it will be overwritten during initialization because 'init_params' contains 'm'\n",
      "Even though the 'covars_' attribute is set, it will be overwritten during initialization because 'init_params' contains 'c'\n",
      "  0%|          | 0/5 [00:00<?, ?it/s]"
     ]
    },
    {
     "name": "stdout",
     "output_type": "stream",
     "text": [
      "0.295\n"
     ]
    },
    {
     "name": "stderr",
     "output_type": "stream",
     "text": [
      "100%|██████████| 5/5 [00:29<00:00,  5.89s/it]\n",
      "Even though the 'startprob_' attribute is set, it will be overwritten during initialization because 'init_params' contains 's'\n",
      "Even though the 'transmat_' attribute is set, it will be overwritten during initialization because 'init_params' contains 't'\n",
      "Even though the 'means_' attribute is set, it will be overwritten during initialization because 'init_params' contains 'm'\n",
      "Even though the 'covars_' attribute is set, it will be overwritten during initialization because 'init_params' contains 'c'\n",
      "  0%|          | 0/5 [00:00<?, ?it/s]"
     ]
    },
    {
     "name": "stdout",
     "output_type": "stream",
     "text": [
      "0.798\n"
     ]
    },
    {
     "name": "stderr",
     "output_type": "stream",
     "text": [
      "100%|██████████| 5/5 [00:29<00:00,  5.86s/it]\n",
      "Even though the 'startprob_' attribute is set, it will be overwritten during initialization because 'init_params' contains 's'\n",
      "Even though the 'transmat_' attribute is set, it will be overwritten during initialization because 'init_params' contains 't'\n",
      "Even though the 'means_' attribute is set, it will be overwritten during initialization because 'init_params' contains 'm'\n",
      "Even though the 'covars_' attribute is set, it will be overwritten during initialization because 'init_params' contains 'c'\n",
      "  0%|          | 0/5 [00:00<?, ?it/s]"
     ]
    },
    {
     "name": "stdout",
     "output_type": "stream",
     "text": [
      "-0.26\n"
     ]
    },
    {
     "name": "stderr",
     "output_type": "stream",
     "text": [
      "100%|██████████| 5/5 [00:29<00:00,  5.93s/it]\n",
      "Even though the 'startprob_' attribute is set, it will be overwritten during initialization because 'init_params' contains 's'\n",
      "Even though the 'transmat_' attribute is set, it will be overwritten during initialization because 'init_params' contains 't'\n",
      "Even though the 'means_' attribute is set, it will be overwritten during initialization because 'init_params' contains 'm'\n",
      "Even though the 'covars_' attribute is set, it will be overwritten during initialization because 'init_params' contains 'c'\n",
      "  0%|          | 0/5 [00:00<?, ?it/s]"
     ]
    },
    {
     "name": "stdout",
     "output_type": "stream",
     "text": [
      "-0.153\n"
     ]
    },
    {
     "name": "stderr",
     "output_type": "stream",
     "text": [
      "100%|██████████| 5/5 [00:29<00:00,  5.89s/it]\n",
      "Even though the 'startprob_' attribute is set, it will be overwritten during initialization because 'init_params' contains 's'\n",
      "Even though the 'transmat_' attribute is set, it will be overwritten during initialization because 'init_params' contains 't'\n",
      "Even though the 'means_' attribute is set, it will be overwritten during initialization because 'init_params' contains 'm'\n",
      "Even though the 'covars_' attribute is set, it will be overwritten during initialization because 'init_params' contains 'c'\n",
      "  0%|          | 0/5 [00:00<?, ?it/s]"
     ]
    },
    {
     "name": "stdout",
     "output_type": "stream",
     "text": [
      "0.732\n"
     ]
    },
    {
     "name": "stderr",
     "output_type": "stream",
     "text": [
      "100%|██████████| 5/5 [00:29<00:00,  5.89s/it]\n",
      "Even though the 'startprob_' attribute is set, it will be overwritten during initialization because 'init_params' contains 's'\n",
      "Even though the 'transmat_' attribute is set, it will be overwritten during initialization because 'init_params' contains 't'\n",
      "Even though the 'means_' attribute is set, it will be overwritten during initialization because 'init_params' contains 'm'\n",
      "Even though the 'covars_' attribute is set, it will be overwritten during initialization because 'init_params' contains 'c'\n",
      "  0%|          | 0/5 [00:00<?, ?it/s]"
     ]
    },
    {
     "name": "stdout",
     "output_type": "stream",
     "text": [
      "-0.753\n"
     ]
    },
    {
     "name": "stderr",
     "output_type": "stream",
     "text": [
      "100%|██████████| 5/5 [00:29<00:00,  5.89s/it]\n",
      "Even though the 'startprob_' attribute is set, it will be overwritten during initialization because 'init_params' contains 's'\n",
      "Even though the 'transmat_' attribute is set, it will be overwritten during initialization because 'init_params' contains 't'\n",
      "Even though the 'means_' attribute is set, it will be overwritten during initialization because 'init_params' contains 'm'\n",
      "Even though the 'covars_' attribute is set, it will be overwritten during initialization because 'init_params' contains 'c'\n",
      "  0%|          | 0/5 [00:00<?, ?it/s]"
     ]
    },
    {
     "name": "stdout",
     "output_type": "stream",
     "text": [
      "0.419\n"
     ]
    },
    {
     "name": "stderr",
     "output_type": "stream",
     "text": [
      "100%|██████████| 5/5 [00:29<00:00,  5.91s/it]\n",
      "Even though the 'startprob_' attribute is set, it will be overwritten during initialization because 'init_params' contains 's'\n",
      "Even though the 'transmat_' attribute is set, it will be overwritten during initialization because 'init_params' contains 't'\n",
      "Even though the 'means_' attribute is set, it will be overwritten during initialization because 'init_params' contains 'm'\n",
      "Even though the 'covars_' attribute is set, it will be overwritten during initialization because 'init_params' contains 'c'\n",
      "  0%|          | 0/5 [00:00<?, ?it/s]"
     ]
    },
    {
     "name": "stdout",
     "output_type": "stream",
     "text": [
      "0.87\n"
     ]
    },
    {
     "name": "stderr",
     "output_type": "stream",
     "text": [
      "100%|██████████| 5/5 [00:29<00:00,  5.86s/it]\n",
      "Even though the 'startprob_' attribute is set, it will be overwritten during initialization because 'init_params' contains 's'\n",
      "Even though the 'transmat_' attribute is set, it will be overwritten during initialization because 'init_params' contains 't'\n",
      "Even though the 'means_' attribute is set, it will be overwritten during initialization because 'init_params' contains 'm'\n",
      "Even though the 'covars_' attribute is set, it will be overwritten during initialization because 'init_params' contains 'c'\n",
      "  0%|          | 0/5 [00:00<?, ?it/s]"
     ]
    },
    {
     "name": "stdout",
     "output_type": "stream",
     "text": [
      "-1.074\n"
     ]
    },
    {
     "name": "stderr",
     "output_type": "stream",
     "text": [
      "100%|██████████| 5/5 [00:29<00:00,  5.88s/it]\n",
      "Even though the 'startprob_' attribute is set, it will be overwritten during initialization because 'init_params' contains 's'\n",
      "Even though the 'transmat_' attribute is set, it will be overwritten during initialization because 'init_params' contains 't'\n",
      "Even though the 'means_' attribute is set, it will be overwritten during initialization because 'init_params' contains 'm'\n",
      "Even though the 'covars_' attribute is set, it will be overwritten during initialization because 'init_params' contains 'c'\n",
      "  0%|          | 0/5 [00:00<?, ?it/s]"
     ]
    },
    {
     "name": "stdout",
     "output_type": "stream",
     "text": [
      "0.702\n"
     ]
    },
    {
     "name": "stderr",
     "output_type": "stream",
     "text": [
      "100%|██████████| 5/5 [00:29<00:00,  5.86s/it]\n",
      "Even though the 'startprob_' attribute is set, it will be overwritten during initialization because 'init_params' contains 's'\n",
      "Even though the 'transmat_' attribute is set, it will be overwritten during initialization because 'init_params' contains 't'\n",
      "Even though the 'means_' attribute is set, it will be overwritten during initialization because 'init_params' contains 'm'\n",
      "Even though the 'covars_' attribute is set, it will be overwritten during initialization because 'init_params' contains 'c'\n",
      "  0%|          | 0/5 [00:00<?, ?it/s]"
     ]
    },
    {
     "name": "stdout",
     "output_type": "stream",
     "text": [
      "-1.707\n"
     ]
    },
    {
     "name": "stderr",
     "output_type": "stream",
     "text": [
      "100%|██████████| 5/5 [00:29<00:00,  5.88s/it]"
     ]
    },
    {
     "name": "stdout",
     "output_type": "stream",
     "text": [
      "0.719\n"
     ]
    },
    {
     "name": "stderr",
     "output_type": "stream",
     "text": [
      "\n"
     ]
    },
    {
     "data": {
      "text/html": [
       "<div>\n",
       "<style scoped>\n",
       "    .dataframe tbody tr th:only-of-type {\n",
       "        vertical-align: middle;\n",
       "    }\n",
       "\n",
       "    .dataframe tbody tr th {\n",
       "        vertical-align: top;\n",
       "    }\n",
       "\n",
       "    .dataframe thead th {\n",
       "        text-align: right;\n",
       "    }\n",
       "</style>\n",
       "<table border=\"1\" class=\"dataframe\">\n",
       "  <thead>\n",
       "    <tr style=\"text-align: right;\">\n",
       "      <th></th>\n",
       "      <th>start</th>\n",
       "      <th>mid</th>\n",
       "      <th>end</th>\n",
       "      <th>test_var</th>\n",
       "      <th>score</th>\n",
       "    </tr>\n",
       "  </thead>\n",
       "  <tbody>\n",
       "    <tr>\n",
       "      <th>0</th>\n",
       "      <td>2018-01-02</td>\n",
       "      <td>2019-01-04</td>\n",
       "      <td>2019-01-11</td>\n",
       "      <td>Open      2.022224e+03\n",
       "High      1.608411e+03\n",
       "...</td>\n",
       "      <td>0.661</td>\n",
       "    </tr>\n",
       "    <tr>\n",
       "      <th>1</th>\n",
       "      <td>2018-02-01</td>\n",
       "      <td>2019-02-05</td>\n",
       "      <td>2019-02-12</td>\n",
       "      <td>Open      2.354648e+02\n",
       "High      1.465329e+02\n",
       "...</td>\n",
       "      <td>-0.491</td>\n",
       "    </tr>\n",
       "    <tr>\n",
       "      <th>2</th>\n",
       "      <td>2018-03-05</td>\n",
       "      <td>2019-03-07</td>\n",
       "      <td>2019-03-14</td>\n",
       "      <td>Open      7.296548e+02\n",
       "High      7.002278e+02\n",
       "...</td>\n",
       "      <td>0.662</td>\n",
       "    </tr>\n",
       "    <tr>\n",
       "      <th>3</th>\n",
       "      <td>2018-04-04</td>\n",
       "      <td>2019-04-05</td>\n",
       "      <td>2019-04-12</td>\n",
       "      <td>Open      3.907806e+01\n",
       "High      2.868282e+01\n",
       "...</td>\n",
       "      <td>0.551</td>\n",
       "    </tr>\n",
       "    <tr>\n",
       "      <th>4</th>\n",
       "      <td>2018-05-03</td>\n",
       "      <td>2019-05-07</td>\n",
       "      <td>2019-05-14</td>\n",
       "      <td>Open      8.326824e+02\n",
       "High      1.094206e+03\n",
       "...</td>\n",
       "      <td>0.154</td>\n",
       "    </tr>\n",
       "    <tr>\n",
       "      <th>5</th>\n",
       "      <td>2018-06-04</td>\n",
       "      <td>2019-06-06</td>\n",
       "      <td>2019-06-13</td>\n",
       "      <td>Open      1.166750e+03\n",
       "High      1.036733e+03\n",
       "...</td>\n",
       "      <td>0.081</td>\n",
       "    </tr>\n",
       "    <tr>\n",
       "      <th>6</th>\n",
       "      <td>2018-07-03</td>\n",
       "      <td>2019-07-08</td>\n",
       "      <td>2019-07-15</td>\n",
       "      <td>Open      1.906860e+02\n",
       "High      1.689727e+02\n",
       "...</td>\n",
       "      <td>0.906</td>\n",
       "    </tr>\n",
       "    <tr>\n",
       "      <th>7</th>\n",
       "      <td>2018-08-02</td>\n",
       "      <td>2019-08-06</td>\n",
       "      <td>2019-08-13</td>\n",
       "      <td>Open      7.653574e+02\n",
       "High      5.215058e+02\n",
       "...</td>\n",
       "      <td>0.007</td>\n",
       "    </tr>\n",
       "    <tr>\n",
       "      <th>8</th>\n",
       "      <td>2018-08-31</td>\n",
       "      <td>2019-09-05</td>\n",
       "      <td>2019-09-12</td>\n",
       "      <td>Open      5.380305e+02\n",
       "High      4.562186e+02\n",
       "...</td>\n",
       "      <td>0.276</td>\n",
       "    </tr>\n",
       "    <tr>\n",
       "      <th>9</th>\n",
       "      <td>2018-10-02</td>\n",
       "      <td>2019-10-04</td>\n",
       "      <td>2019-10-11</td>\n",
       "      <td>Open      3.580254e+02\n",
       "High      3.569128e+02\n",
       "...</td>\n",
       "      <td>0.559</td>\n",
       "    </tr>\n",
       "    <tr>\n",
       "      <th>10</th>\n",
       "      <td>2018-10-31</td>\n",
       "      <td>2019-11-04</td>\n",
       "      <td>2019-11-11</td>\n",
       "      <td>Open      1.639849e+02\n",
       "High      1.192285e+02\n",
       "...</td>\n",
       "      <td>-1.906</td>\n",
       "    </tr>\n",
       "    <tr>\n",
       "      <th>11</th>\n",
       "      <td>2018-11-30</td>\n",
       "      <td>2019-12-04</td>\n",
       "      <td>2019-12-11</td>\n",
       "      <td>Open      4.523785e+02\n",
       "High      4.749988e+02\n",
       "...</td>\n",
       "      <td>0.308</td>\n",
       "    </tr>\n",
       "    <tr>\n",
       "      <th>12</th>\n",
       "      <td>2019-01-03</td>\n",
       "      <td>2020-01-06</td>\n",
       "      <td>2020-01-13</td>\n",
       "      <td>Open      5.896654e+02\n",
       "High      2.823790e+02\n",
       "...</td>\n",
       "      <td>0.309</td>\n",
       "    </tr>\n",
       "    <tr>\n",
       "      <th>13</th>\n",
       "      <td>2019-02-04</td>\n",
       "      <td>2020-02-05</td>\n",
       "      <td>2020-02-12</td>\n",
       "      <td>Open      8.252708e+02\n",
       "High      5.012668e+02\n",
       "...</td>\n",
       "      <td>0.257</td>\n",
       "    </tr>\n",
       "    <tr>\n",
       "      <th>14</th>\n",
       "      <td>2019-03-06</td>\n",
       "      <td>2020-03-06</td>\n",
       "      <td>2020-03-13</td>\n",
       "      <td>Open      2.225309e+04\n",
       "High      2.071485e+04\n",
       "...</td>\n",
       "      <td>0.295</td>\n",
       "    </tr>\n",
       "    <tr>\n",
       "      <th>15</th>\n",
       "      <td>2019-04-04</td>\n",
       "      <td>2020-04-06</td>\n",
       "      <td>2020-04-14</td>\n",
       "      <td>Open      1.219320e+04\n",
       "High      1.030558e+04\n",
       "...</td>\n",
       "      <td>0.798</td>\n",
       "    </tr>\n",
       "    <tr>\n",
       "      <th>16</th>\n",
       "      <td>2019-05-06</td>\n",
       "      <td>2020-05-06</td>\n",
       "      <td>2020-05-13</td>\n",
       "      <td>Open      7.193443e+02\n",
       "High      6.061975e+02\n",
       "...</td>\n",
       "      <td>-0.260</td>\n",
       "    </tr>\n",
       "    <tr>\n",
       "      <th>17</th>\n",
       "      <td>2019-06-05</td>\n",
       "      <td>2020-06-05</td>\n",
       "      <td>2020-06-12</td>\n",
       "      <td>Open      2.052908e+03\n",
       "High      2.531451e+03\n",
       "...</td>\n",
       "      <td>-0.153</td>\n",
       "    </tr>\n",
       "    <tr>\n",
       "      <th>18</th>\n",
       "      <td>2019-07-05</td>\n",
       "      <td>2020-07-07</td>\n",
       "      <td>2020-07-14</td>\n",
       "      <td>Open      4.139393e+02\n",
       "High      5.177603e+02\n",
       "...</td>\n",
       "      <td>0.732</td>\n",
       "    </tr>\n",
       "    <tr>\n",
       "      <th>19</th>\n",
       "      <td>2019-08-05</td>\n",
       "      <td>2020-08-05</td>\n",
       "      <td>2020-08-12</td>\n",
       "      <td>Open      8.342881e+02\n",
       "High      6.686383e+02\n",
       "...</td>\n",
       "      <td>-0.753</td>\n",
       "    </tr>\n",
       "    <tr>\n",
       "      <th>20</th>\n",
       "      <td>2019-09-04</td>\n",
       "      <td>2020-09-03</td>\n",
       "      <td>2020-09-11</td>\n",
       "      <td>Open      7.171576e+03\n",
       "High      6.971517e+03\n",
       "...</td>\n",
       "      <td>0.419</td>\n",
       "    </tr>\n",
       "    <tr>\n",
       "      <th>21</th>\n",
       "      <td>2019-10-03</td>\n",
       "      <td>2020-10-05</td>\n",
       "      <td>2020-10-12</td>\n",
       "      <td>Open      1.968571e+03\n",
       "High      1.429706e+03\n",
       "...</td>\n",
       "      <td>0.870</td>\n",
       "    </tr>\n",
       "    <tr>\n",
       "      <th>22</th>\n",
       "      <td>2019-11-01</td>\n",
       "      <td>2020-11-03</td>\n",
       "      <td>2020-11-10</td>\n",
       "      <td>Open      1.193893e+04\n",
       "High      1.245846e+04\n",
       "...</td>\n",
       "      <td>-1.074</td>\n",
       "    </tr>\n",
       "    <tr>\n",
       "      <th>23</th>\n",
       "      <td>2019-12-03</td>\n",
       "      <td>2020-12-03</td>\n",
       "      <td>2020-12-10</td>\n",
       "      <td>Open      3.612828e+02\n",
       "High      2.470034e+02\n",
       "...</td>\n",
       "      <td>0.702</td>\n",
       "    </tr>\n",
       "    <tr>\n",
       "      <th>24</th>\n",
       "      <td>2020-01-03</td>\n",
       "      <td>2021-01-05</td>\n",
       "      <td>2021-01-12</td>\n",
       "      <td>Open      2.212100e+03\n",
       "High      1.149842e+03\n",
       "...</td>\n",
       "      <td>-1.707</td>\n",
       "    </tr>\n",
       "    <tr>\n",
       "      <th>25</th>\n",
       "      <td>2020-02-04</td>\n",
       "      <td>2021-02-04</td>\n",
       "      <td>2021-02-11</td>\n",
       "      <td>Open      1.242149e+03\n",
       "High      1.011438e+03\n",
       "...</td>\n",
       "      <td>0.719</td>\n",
       "    </tr>\n",
       "  </tbody>\n",
       "</table>\n",
       "</div>"
      ],
      "text/plain": [
       "        start        mid        end  \\\n",
       "0  2018-01-02 2019-01-04 2019-01-11   \n",
       "1  2018-02-01 2019-02-05 2019-02-12   \n",
       "2  2018-03-05 2019-03-07 2019-03-14   \n",
       "3  2018-04-04 2019-04-05 2019-04-12   \n",
       "4  2018-05-03 2019-05-07 2019-05-14   \n",
       "5  2018-06-04 2019-06-06 2019-06-13   \n",
       "6  2018-07-03 2019-07-08 2019-07-15   \n",
       "7  2018-08-02 2019-08-06 2019-08-13   \n",
       "8  2018-08-31 2019-09-05 2019-09-12   \n",
       "9  2018-10-02 2019-10-04 2019-10-11   \n",
       "10 2018-10-31 2019-11-04 2019-11-11   \n",
       "11 2018-11-30 2019-12-04 2019-12-11   \n",
       "12 2019-01-03 2020-01-06 2020-01-13   \n",
       "13 2019-02-04 2020-02-05 2020-02-12   \n",
       "14 2019-03-06 2020-03-06 2020-03-13   \n",
       "15 2019-04-04 2020-04-06 2020-04-14   \n",
       "16 2019-05-06 2020-05-06 2020-05-13   \n",
       "17 2019-06-05 2020-06-05 2020-06-12   \n",
       "18 2019-07-05 2020-07-07 2020-07-14   \n",
       "19 2019-08-05 2020-08-05 2020-08-12   \n",
       "20 2019-09-04 2020-09-03 2020-09-11   \n",
       "21 2019-10-03 2020-10-05 2020-10-12   \n",
       "22 2019-11-01 2020-11-03 2020-11-10   \n",
       "23 2019-12-03 2020-12-03 2020-12-10   \n",
       "24 2020-01-03 2021-01-05 2021-01-12   \n",
       "25 2020-02-04 2021-02-04 2021-02-11   \n",
       "\n",
       "                                             test_var  score  \n",
       "0   Open      2.022224e+03\n",
       "High      1.608411e+03\n",
       "...  0.661  \n",
       "1   Open      2.354648e+02\n",
       "High      1.465329e+02\n",
       "... -0.491  \n",
       "2   Open      7.296548e+02\n",
       "High      7.002278e+02\n",
       "...  0.662  \n",
       "3   Open      3.907806e+01\n",
       "High      2.868282e+01\n",
       "...  0.551  \n",
       "4   Open      8.326824e+02\n",
       "High      1.094206e+03\n",
       "...  0.154  \n",
       "5   Open      1.166750e+03\n",
       "High      1.036733e+03\n",
       "...  0.081  \n",
       "6   Open      1.906860e+02\n",
       "High      1.689727e+02\n",
       "...  0.906  \n",
       "7   Open      7.653574e+02\n",
       "High      5.215058e+02\n",
       "...  0.007  \n",
       "8   Open      5.380305e+02\n",
       "High      4.562186e+02\n",
       "...  0.276  \n",
       "9   Open      3.580254e+02\n",
       "High      3.569128e+02\n",
       "...  0.559  \n",
       "10  Open      1.639849e+02\n",
       "High      1.192285e+02\n",
       "... -1.906  \n",
       "11  Open      4.523785e+02\n",
       "High      4.749988e+02\n",
       "...  0.308  \n",
       "12  Open      5.896654e+02\n",
       "High      2.823790e+02\n",
       "...  0.309  \n",
       "13  Open      8.252708e+02\n",
       "High      5.012668e+02\n",
       "...  0.257  \n",
       "14  Open      2.225309e+04\n",
       "High      2.071485e+04\n",
       "...  0.295  \n",
       "15  Open      1.219320e+04\n",
       "High      1.030558e+04\n",
       "...  0.798  \n",
       "16  Open      7.193443e+02\n",
       "High      6.061975e+02\n",
       "... -0.260  \n",
       "17  Open      2.052908e+03\n",
       "High      2.531451e+03\n",
       "... -0.153  \n",
       "18  Open      4.139393e+02\n",
       "High      5.177603e+02\n",
       "...  0.732  \n",
       "19  Open      8.342881e+02\n",
       "High      6.686383e+02\n",
       "... -0.753  \n",
       "20  Open      7.171576e+03\n",
       "High      6.971517e+03\n",
       "...  0.419  \n",
       "21  Open      1.968571e+03\n",
       "High      1.429706e+03\n",
       "...  0.870  \n",
       "22  Open      1.193893e+04\n",
       "High      1.245846e+04\n",
       "... -1.074  \n",
       "23  Open      3.612828e+02\n",
       "High      2.470034e+02\n",
       "...  0.702  \n",
       "24  Open      2.212100e+03\n",
       "High      1.149842e+03\n",
       "... -1.707  \n",
       "25  Open      1.242149e+03\n",
       "High      1.011438e+03\n",
       "...  0.719  "
      ]
     },
     "metadata": {},
     "output_type": "display_data"
    }
   ],
   "source": [
    "if __name__ == \"__main__\":\n",
    "    features = ['Open', 'High', 'Low', 'Close','Volume']\n",
    "    price_data = fd.get_financial_time_series(\"^GSPC\", \"2018-01-01\", \"2021-03-01\", features)\n",
    "    HMM_stock_predictor = HmmTimeSeriesModel(n_hidden_states=4,n_iter=1000,covariance_type='full')\n",
    "    res = rolling_window_validation(HMM_stock_predictor, price_data)\n",
    "    display(res)"
   ]
  }
 ],
 "metadata": {
  "kernelspec": {
   "display_name": "f10ds_spark_py36",
   "language": "python",
   "name": "f10ds_spark_py36"
  },
  "language_info": {
   "codemirror_mode": {
    "name": "ipython",
    "version": 3
   },
   "file_extension": ".py",
   "mimetype": "text/x-python",
   "name": "python",
   "nbconvert_exporter": "python",
   "pygments_lexer": "ipython3",
   "version": "3.6.9"
  },
  "varInspector": {
   "cols": {
    "lenName": 16,
    "lenType": 16,
    "lenVar": 40
   },
   "kernels_config": {
    "python": {
     "delete_cmd_postfix": "",
     "delete_cmd_prefix": "del ",
     "library": "var_list.py",
     "varRefreshCmd": "print(var_dic_list())"
    },
    "r": {
     "delete_cmd_postfix": ") ",
     "delete_cmd_prefix": "rm(",
     "library": "var_list.r",
     "varRefreshCmd": "cat(var_dic_list()) "
    }
   },
   "types_to_exclude": [
    "module",
    "function",
    "builtin_function_or_method",
    "instance",
    "_Feature"
   ],
   "window_display": false
  }
 },
 "nbformat": 4,
 "nbformat_minor": 2
}
