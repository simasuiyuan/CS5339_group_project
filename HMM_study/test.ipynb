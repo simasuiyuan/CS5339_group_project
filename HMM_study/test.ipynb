{
 "cells": [
  {
   "cell_type": "code",
   "execution_count": 114,
   "metadata": {
    "ExecuteTime": {
     "end_time": "2021-04-10T13:31:43.768406Z",
     "start_time": "2021-04-10T13:31:43.764426Z"
    }
   },
   "outputs": [],
   "source": [
    "\n",
    "from typing import List\n",
    "import pandas as pd\n",
    "import numpy as np\n",
    "from sklearn.metrics import r2_score\n",
    "from package.HmmTSModel import HmmTimeSeriesModel\n",
    "from TM_members_study.Esmond import financial_data as fd\n",
    "import matplotlib.pyplot as plt"
   ]
  },
  {
   "cell_type": "code",
   "execution_count": 172,
   "metadata": {
    "ExecuteTime": {
     "end_time": "2021-04-10T14:33:01.690939Z",
     "start_time": "2021-04-10T14:33:01.663994Z"
    }
   },
   "outputs": [
    {
     "name": "stdout",
     "output_type": "stream",
     "text": [
      "The autoreload extension is already loaded. To reload it, use:\n",
      "  %reload_ext autoreload\n"
     ]
    }
   ],
   "source": [
    "%load_ext autoreload\n",
    "%autoreload\n",
    "from package.HmmTSModel import HmmTimeSeriesModel"
   ]
  },
  {
   "cell_type": "code",
   "execution_count": 176,
   "metadata": {
    "ExecuteTime": {
     "end_time": "2021-04-10T14:36:48.197984Z",
     "start_time": "2021-04-10T14:36:48.193437Z"
    }
   },
   "outputs": [],
   "source": [
    "def train_model(model, data: pd.DataFrame, **kwargs):\n",
    "    model.fit(data,**kwargs)\n",
    "    \n",
    "def test_model(model, data: pd.DataFrame, **kwargs):\n",
    "    prediction = model.project(data, **kwargs)\n",
    "    data_list = data['close']\n",
    "    return r2_score(data_list[1:], prediction)"
   ]
  },
  {
   "cell_type": "code",
   "execution_count": 177,
   "metadata": {
    "ExecuteTime": {
     "end_time": "2021-04-10T14:39:36.590071Z",
     "start_time": "2021-04-10T14:36:49.651387Z"
    },
    "scrolled": false
   },
   "outputs": [
    {
     "name": "stdout",
     "output_type": "stream",
     "text": [
      "[*********************100%***********************]  1 of 1 completed\n",
      "[*********************100%***********************]  1 of 1 completed\n"
     ]
    },
    {
     "data": {
      "text/html": [
       "<div>\n",
       "<style scoped>\n",
       "    .dataframe tbody tr th:only-of-type {\n",
       "        vertical-align: middle;\n",
       "    }\n",
       "\n",
       "    .dataframe tbody tr th {\n",
       "        vertical-align: top;\n",
       "    }\n",
       "\n",
       "    .dataframe thead th {\n",
       "        text-align: right;\n",
       "    }\n",
       "</style>\n",
       "<table border=\"1\" class=\"dataframe\">\n",
       "  <thead>\n",
       "    <tr style=\"text-align: right;\">\n",
       "      <th></th>\n",
       "      <th>frac_change</th>\n",
       "      <th>frac_high</th>\n",
       "      <th>frac_low</th>\n",
       "      <th>vol_gap</th>\n",
       "    </tr>\n",
       "    <tr>\n",
       "      <th>Date</th>\n",
       "      <th></th>\n",
       "      <th></th>\n",
       "      <th></th>\n",
       "      <th></th>\n",
       "    </tr>\n",
       "  </thead>\n",
       "  <tbody>\n",
       "    <tr>\n",
       "      <th>2020-01-03</th>\n",
       "      <td>-0.053140</td>\n",
       "      <td>0.006441</td>\n",
       "      <td>0.059581</td>\n",
       "      <td>-0.204262</td>\n",
       "    </tr>\n",
       "    <tr>\n",
       "      <th>2020-01-06</th>\n",
       "      <td>0.008621</td>\n",
       "      <td>0.018965</td>\n",
       "      <td>0.034483</td>\n",
       "      <td>-0.042072</td>\n",
       "    </tr>\n",
       "    <tr>\n",
       "      <th>2020-01-07</th>\n",
       "      <td>-0.043328</td>\n",
       "      <td>0.010399</td>\n",
       "      <td>0.057192</td>\n",
       "      <td>0.540002</td>\n",
       "    </tr>\n",
       "    <tr>\n",
       "      <th>2020-01-08</th>\n",
       "      <td>0.041894</td>\n",
       "      <td>0.065574</td>\n",
       "      <td>0.014572</td>\n",
       "      <td>0.076779</td>\n",
       "    </tr>\n",
       "    <tr>\n",
       "      <th>2020-01-09</th>\n",
       "      <td>-0.046392</td>\n",
       "      <td>0.000000</td>\n",
       "      <td>0.058419</td>\n",
       "      <td>-0.530501</td>\n",
       "    </tr>\n",
       "    <tr>\n",
       "      <th>...</th>\n",
       "      <td>...</td>\n",
       "      <td>...</td>\n",
       "      <td>...</td>\n",
       "      <td>...</td>\n",
       "    </tr>\n",
       "    <tr>\n",
       "      <th>2020-12-24</th>\n",
       "      <td>-0.040933</td>\n",
       "      <td>0.022370</td>\n",
       "      <td>0.050452</td>\n",
       "      <td>-0.757564</td>\n",
       "    </tr>\n",
       "    <tr>\n",
       "      <th>2020-12-28</th>\n",
       "      <td>-0.015016</td>\n",
       "      <td>0.030971</td>\n",
       "      <td>0.045049</td>\n",
       "      <td>0.431749</td>\n",
       "    </tr>\n",
       "    <tr>\n",
       "      <th>2020-12-29</th>\n",
       "      <td>-0.069164</td>\n",
       "      <td>0.012008</td>\n",
       "      <td>0.108549</td>\n",
       "      <td>0.030728</td>\n",
       "    </tr>\n",
       "    <tr>\n",
       "      <th>2020-12-30</th>\n",
       "      <td>-0.006192</td>\n",
       "      <td>0.031992</td>\n",
       "      <td>0.027348</td>\n",
       "      <td>-0.357846</td>\n",
       "    </tr>\n",
       "    <tr>\n",
       "      <th>2020-12-31</th>\n",
       "      <td>-0.021299</td>\n",
       "      <td>0.028571</td>\n",
       "      <td>0.023377</td>\n",
       "      <td>0.166537</td>\n",
       "    </tr>\n",
       "  </tbody>\n",
       "</table>\n",
       "<p>252 rows × 4 columns</p>\n",
       "</div>"
      ],
      "text/plain": [
       "            frac_change  frac_high  frac_low   vol_gap\n",
       "Date                                                  \n",
       "2020-01-03    -0.053140   0.006441  0.059581 -0.204262\n",
       "2020-01-06     0.008621   0.018965  0.034483 -0.042072\n",
       "2020-01-07    -0.043328   0.010399  0.057192  0.540002\n",
       "2020-01-08     0.041894   0.065574  0.014572  0.076779\n",
       "2020-01-09    -0.046392   0.000000  0.058419 -0.530501\n",
       "...                 ...        ...       ...       ...\n",
       "2020-12-24    -0.040933   0.022370  0.050452 -0.757564\n",
       "2020-12-28    -0.015016   0.030971  0.045049  0.431749\n",
       "2020-12-29    -0.069164   0.012008  0.108549  0.030728\n",
       "2020-12-30    -0.006192   0.031992  0.027348 -0.357846\n",
       "2020-12-31    -0.021299   0.028571  0.023377  0.166537\n",
       "\n",
       "[252 rows x 4 columns]"
      ]
     },
     "metadata": {},
     "output_type": "display_data"
    },
    {
     "name": "stderr",
     "output_type": "stream",
     "text": [
      "100%|██████████| 23/23 [02:46<00:00,  7.23s/it]"
     ]
    },
    {
     "name": "stdout",
     "output_type": "stream",
     "text": [
      "0.8790773432081639\n"
     ]
    },
    {
     "name": "stderr",
     "output_type": "stream",
     "text": [
      "\n"
     ]
    }
   ],
   "source": [
    "if __name__ == \"__main__\":\n",
    "    \n",
    "    HMM_stock_predictor = HmmTimeSeriesModel(n_hidden_states=5,n_iter=1000,covariance_type='full',n_latency=3)\n",
    "    \n",
    "    GME_TRAIN = fd.get_financial_time_series(\"GME\", \"2020-01-01\", \"2021-01-01\", \n",
    "                                             ['Open', 'High', 'Low', 'Close','Volume']).dropna()\n",
    "    GME_TEST = fd.get_financial_time_series(\"GME\", \"2021-01-01\", \"2021-02-08\", ['Open', 'High', 'Low', 'Close','Volume']).dropna()\n",
    "    \n",
    "    train_model(HMM_stock_predictor, GME_TRAIN, step=[20,10,10,5,10])\n",
    "    \n",
    "    print(test_model(HMM_stock_predictor, GME_TEST))"
   ]
  },
  {
   "cell_type": "code",
   "execution_count": 175,
   "metadata": {
    "ExecuteTime": {
     "end_time": "2021-04-10T14:35:49.591639Z",
     "start_time": "2021-04-10T14:35:49.404267Z"
    }
   },
   "outputs": [
    {
     "name": "stdout",
     "output_type": "stream",
     "text": [
      "[*********************100%***********************]  1 of 1 completed\n"
     ]
    }
   ],
   "source": [
    "GME_TEST = fd.get_financial_time_series(\"GME\", \"2021-01-01\", \"2021-01-8\", ['Open', 'High', 'Low', 'Close','Volume']).dropna()\n",
    "\n",
    "GME_TEST.columns= GME_TEST.columns.str.strip().str.lower()\n",
    "data = GME_TEST.copy()\n",
    "\n",
    "data['frac_change'] = (np.array(data['close']) - np.array(data['open'])) / np.array(data['open'])\n",
    "data['frac_high'] = (np.array(data['high']) - np.array(data['open'])) / np.array(data['open'])\n",
    "data['frac_low'] = (np.array(data['open']) - np.array(data['low'])) / np.array(data['open'])\n",
    "\n",
    "forecast_var = np.array(data['open'].pct_change())\n",
    "vol_gap = np.array(data['volume'].pct_change())"
   ]
  },
  {
   "cell_type": "code",
   "execution_count": 128,
   "metadata": {
    "ExecuteTime": {
     "end_time": "2021-04-10T13:49:15.911662Z",
     "start_time": "2021-04-10T13:49:15.908206Z"
    }
   },
   "outputs": [
    {
     "data": {
      "text/plain": [
       "array([        nan, -0.08684209, -0.00057638,  0.06516719])"
      ]
     },
     "execution_count": 128,
     "metadata": {},
     "output_type": "execute_result"
    }
   ],
   "source": [
    "forecast_var"
   ]
  },
  {
   "cell_type": "code",
   "execution_count": 129,
   "metadata": {
    "ExecuteTime": {
     "end_time": "2021-04-10T13:49:16.070780Z",
     "start_time": "2021-04-10T13:49:16.067057Z"
    }
   },
   "outputs": [
    {
     "data": {
      "text/plain": [
       "array([        nan, -0.50496383,  0.22063892,  0.01207028])"
      ]
     },
     "execution_count": 129,
     "metadata": {},
     "output_type": "execute_result"
    }
   ],
   "source": [
    "vol_gap"
   ]
  },
  {
   "cell_type": "code",
   "execution_count": 130,
   "metadata": {
    "ExecuteTime": {
     "end_time": "2021-04-10T13:49:16.311718Z",
     "start_time": "2021-04-10T13:49:16.304186Z"
    },
    "scrolled": true
   },
   "outputs": [
    {
     "data": {
      "text/html": [
       "<div>\n",
       "<style scoped>\n",
       "    .dataframe tbody tr th:only-of-type {\n",
       "        vertical-align: middle;\n",
       "    }\n",
       "\n",
       "    .dataframe tbody tr th {\n",
       "        vertical-align: top;\n",
       "    }\n",
       "\n",
       "    .dataframe thead th {\n",
       "        text-align: right;\n",
       "    }\n",
       "</style>\n",
       "<table border=\"1\" class=\"dataframe\">\n",
       "  <thead>\n",
       "    <tr style=\"text-align: right;\">\n",
       "      <th></th>\n",
       "      <th>open</th>\n",
       "      <th>high</th>\n",
       "      <th>low</th>\n",
       "      <th>close</th>\n",
       "      <th>volume</th>\n",
       "    </tr>\n",
       "    <tr>\n",
       "      <th>Date</th>\n",
       "      <th></th>\n",
       "      <th></th>\n",
       "      <th></th>\n",
       "      <th></th>\n",
       "      <th></th>\n",
       "    </tr>\n",
       "  </thead>\n",
       "  <tbody>\n",
       "    <tr>\n",
       "      <th>2021-01-04</th>\n",
       "      <td>19.000000</td>\n",
       "      <td>19.100000</td>\n",
       "      <td>17.15</td>\n",
       "      <td>17.250000</td>\n",
       "      <td>10022500</td>\n",
       "    </tr>\n",
       "    <tr>\n",
       "      <th>2021-01-05</th>\n",
       "      <td>17.350000</td>\n",
       "      <td>18.080000</td>\n",
       "      <td>17.23</td>\n",
       "      <td>17.370001</td>\n",
       "      <td>4961500</td>\n",
       "    </tr>\n",
       "    <tr>\n",
       "      <th>2021-01-06</th>\n",
       "      <td>17.340000</td>\n",
       "      <td>18.980000</td>\n",
       "      <td>17.33</td>\n",
       "      <td>18.360001</td>\n",
       "      <td>6056200</td>\n",
       "    </tr>\n",
       "    <tr>\n",
       "      <th>2021-01-07</th>\n",
       "      <td>18.469999</td>\n",
       "      <td>19.450001</td>\n",
       "      <td>18.02</td>\n",
       "      <td>18.080000</td>\n",
       "      <td>6129300</td>\n",
       "    </tr>\n",
       "  </tbody>\n",
       "</table>\n",
       "</div>"
      ],
      "text/plain": [
       "                 open       high    low      close    volume\n",
       "Date                                                        \n",
       "2021-01-04  19.000000  19.100000  17.15  17.250000  10022500\n",
       "2021-01-05  17.350000  18.080000  17.23  17.370001   4961500\n",
       "2021-01-06  17.340000  18.980000  17.33  18.360001   6056200\n",
       "2021-01-07  18.469999  19.450001  18.02  18.080000   6129300"
      ]
     },
     "execution_count": 130,
     "metadata": {},
     "output_type": "execute_result"
    }
   ],
   "source": [
    "GME_TEST"
   ]
  },
  {
   "cell_type": "code",
   "execution_count": 131,
   "metadata": {
    "ExecuteTime": {
     "end_time": "2021-04-10T13:49:35.773715Z",
     "start_time": "2021-04-10T13:49:21.435083Z"
    }
   },
   "outputs": [
    {
     "name": "stderr",
     "output_type": "stream",
     "text": [
      "100%|██████████| 2/2 [00:14<00:00,  7.14s/it]\n"
     ]
    },
    {
     "ename": "ValueError",
     "evalue": "operands could not be broadcast together with shapes (3,) (2,) ",
     "output_type": "error",
     "traceback": [
      "\u001b[0;31m-----------------------------------------------------------------\u001b[0m",
      "\u001b[0;31mValueError\u001b[0m                      Traceback (most recent call last)",
      "\u001b[0;32m<ipython-input-131-031e7baa1888>\u001b[0m in \u001b[0;36m<module>\u001b[0;34m\u001b[0m\n\u001b[1;32m      1\u001b[0m \u001b[0mdata\u001b[0m \u001b[0;34m=\u001b[0m \u001b[0mHMM_stock_predictor\u001b[0m\u001b[0;34m.\u001b[0m\u001b[0mextract_stock_features\u001b[0m\u001b[0;34m(\u001b[0m\u001b[0mGME_TEST\u001b[0m\u001b[0;34m,\u001b[0m\u001b[0;34m[\u001b[0m\u001b[0;34m'Open'\u001b[0m\u001b[0;34m,\u001b[0m \u001b[0;34m'High'\u001b[0m\u001b[0;34m,\u001b[0m \u001b[0;34m'Low'\u001b[0m\u001b[0;34m,\u001b[0m \u001b[0;34m'Close'\u001b[0m\u001b[0;34m,\u001b[0m\u001b[0;34m'Volume'\u001b[0m\u001b[0;34m]\u001b[0m\u001b[0;34m)\u001b[0m\u001b[0;34m\u001b[0m\u001b[0;34m\u001b[0m\u001b[0m\n\u001b[1;32m      2\u001b[0m \u001b[0mprediction\u001b[0m \u001b[0;34m=\u001b[0m \u001b[0mHMM_stock_predictor\u001b[0m\u001b[0;34m.\u001b[0m\u001b[0mproject\u001b[0m\u001b[0;34m(\u001b[0m\u001b[0mdata\u001b[0m\u001b[0;34m)\u001b[0m\u001b[0;34m\u001b[0m\u001b[0;34m\u001b[0m\u001b[0m\n\u001b[0;32m----> 3\u001b[0;31m \u001b[0mprojection\u001b[0m \u001b[0;34m=\u001b[0m \u001b[0mlist\u001b[0m\u001b[0;34m(\u001b[0m\u001b[0mHMM_stock_predictor\u001b[0m\u001b[0;34m.\u001b[0m\u001b[0mget_return\u001b[0m\u001b[0;34m(\u001b[0m\u001b[0mdata\u001b[0m\u001b[0;34m,\u001b[0m\u001b[0mprediction\u001b[0m\u001b[0;34m)\u001b[0m\u001b[0;34m)\u001b[0m\u001b[0;34m\u001b[0m\u001b[0;34m\u001b[0m\u001b[0m\n\u001b[0m\u001b[1;32m      4\u001b[0m \u001b[0mdata_list\u001b[0m \u001b[0;34m=\u001b[0m \u001b[0mGME_TEST\u001b[0m\u001b[0;34m[\u001b[0m\u001b[0;34m'close'\u001b[0m\u001b[0;34m]\u001b[0m\u001b[0;34m.\u001b[0m\u001b[0mpct_change\u001b[0m\u001b[0;34m(\u001b[0m\u001b[0;34m)\u001b[0m\u001b[0;34m.\u001b[0m\u001b[0mdropna\u001b[0m\u001b[0;34m(\u001b[0m\u001b[0;34m)\u001b[0m\u001b[0;34m.\u001b[0m\u001b[0mvalues\u001b[0m\u001b[0;34m.\u001b[0m\u001b[0mflatten\u001b[0m\u001b[0;34m(\u001b[0m\u001b[0;34m)\u001b[0m\u001b[0;34m.\u001b[0m\u001b[0mtolist\u001b[0m\u001b[0;34m(\u001b[0m\u001b[0;34m)\u001b[0m\u001b[0;34m\u001b[0m\u001b[0;34m\u001b[0m\u001b[0m\n",
      "\u001b[0;32m~/yuanma/training/NUS/CS5340/package/HmmTSModel.py\u001b[0m in \u001b[0;36mget_return\u001b[0;34m(self, data, forcast_res, key_word)\u001b[0m\n\u001b[1;32m    130\u001b[0m     \u001b[0;32mdef\u001b[0m \u001b[0mget_return\u001b[0m\u001b[0;34m(\u001b[0m\u001b[0mself\u001b[0m\u001b[0;34m,\u001b[0m \u001b[0mdata\u001b[0m\u001b[0;34m,\u001b[0m \u001b[0mforcast_res\u001b[0m\u001b[0;34m,\u001b[0m \u001b[0mkey_word\u001b[0m\u001b[0;34m:\u001b[0m \u001b[0mstr\u001b[0m\u001b[0;34m=\u001b[0m\u001b[0;34m\"close_pred\"\u001b[0m\u001b[0;34m)\u001b[0m\u001b[0;34m:\u001b[0m\u001b[0;34m\u001b[0m\u001b[0;34m\u001b[0m\u001b[0m\n\u001b[1;32m    131\u001b[0m         \u001b[0;32mif\u001b[0m \u001b[0mkey_word\u001b[0m \u001b[0;34m!=\u001b[0m \u001b[0;34m\"close\"\u001b[0m\u001b[0;34m:\u001b[0m\u001b[0;34m\u001b[0m\u001b[0;34m\u001b[0m\u001b[0m\n\u001b[0;32m--> 132\u001b[0;31m             \u001b[0mdata\u001b[0m\u001b[0;34m[\u001b[0m\u001b[0mkey_word\u001b[0m\u001b[0;34m]\u001b[0m \u001b[0;34m=\u001b[0m \u001b[0mself\u001b[0m\u001b[0;34m.\u001b[0m\u001b[0mget_close\u001b[0m\u001b[0;34m(\u001b[0m\u001b[0mdata\u001b[0m\u001b[0;34m,\u001b[0m \u001b[0mforcast_res\u001b[0m\u001b[0;34m)\u001b[0m\u001b[0;34m\u001b[0m\u001b[0;34m\u001b[0m\u001b[0m\n\u001b[0m\u001b[1;32m    133\u001b[0m         \u001b[0;32mreturn\u001b[0m \u001b[0mdata\u001b[0m\u001b[0;34m[\u001b[0m\u001b[0mkey_word\u001b[0m\u001b[0;34m]\u001b[0m\u001b[0;34m.\u001b[0m\u001b[0mpct_change\u001b[0m\u001b[0;34m(\u001b[0m\u001b[0;34m)\u001b[0m\u001b[0;34m.\u001b[0m\u001b[0mdropna\u001b[0m\u001b[0;34m(\u001b[0m\u001b[0;34m)\u001b[0m\u001b[0;34m\u001b[0m\u001b[0;34m\u001b[0m\u001b[0m\n",
      "\u001b[0;32m~/yuanma/training/NUS/CS5340/package/HmmTSModel.py\u001b[0m in \u001b[0;36mget_close\u001b[0;34m(self, data, forcast_res, key_word)\u001b[0m\n\u001b[1;32m    119\u001b[0m         \u001b[0mpredicted_frac_change\u001b[0m\u001b[0;34m,\u001b[0m \u001b[0m_\u001b[0m\u001b[0;34m,\u001b[0m \u001b[0m_\u001b[0m\u001b[0;34m,\u001b[0m \u001b[0m_\u001b[0m \u001b[0;34m=\u001b[0m \u001b[0mnp\u001b[0m\u001b[0;34m.\u001b[0m\u001b[0marray\u001b[0m\u001b[0;34m(\u001b[0m\u001b[0mlist\u001b[0m\u001b[0;34m(\u001b[0m\u001b[0mzip\u001b[0m\u001b[0;34m(\u001b[0m\u001b[0;34m*\u001b[0m\u001b[0mself\u001b[0m\u001b[0;34m.\u001b[0m\u001b[0mforcast_res\u001b[0m\u001b[0;34m)\u001b[0m\u001b[0;34m)\u001b[0m\u001b[0;34m)\u001b[0m\u001b[0;34m\u001b[0m\u001b[0;34m\u001b[0m\u001b[0m\n\u001b[1;32m    120\u001b[0m         \u001b[0mopen_price\u001b[0m \u001b[0;34m=\u001b[0m \u001b[0mnp\u001b[0m\u001b[0;34m.\u001b[0m\u001b[0marray\u001b[0m\u001b[0;34m(\u001b[0m\u001b[0mdata\u001b[0m\u001b[0;34m[\u001b[0m\u001b[0mkey_word\u001b[0m\u001b[0;34m]\u001b[0m\u001b[0;34m)\u001b[0m\u001b[0;34m\u001b[0m\u001b[0;34m\u001b[0m\u001b[0m\n\u001b[0;32m--> 121\u001b[0;31m         \u001b[0;32mreturn\u001b[0m \u001b[0mopen_price\u001b[0m \u001b[0;34m*\u001b[0m \u001b[0;34m(\u001b[0m\u001b[0;36m1\u001b[0m \u001b[0;34m+\u001b[0m \u001b[0mpredicted_frac_change\u001b[0m\u001b[0;34m)\u001b[0m\u001b[0;34m\u001b[0m\u001b[0;34m\u001b[0m\u001b[0m\n\u001b[0m\u001b[1;32m    122\u001b[0m \u001b[0;34m\u001b[0m\u001b[0m\n\u001b[1;32m    123\u001b[0m \u001b[0;34m\u001b[0m\u001b[0m\n",
      "\u001b[0;31mValueError\u001b[0m: operands could not be broadcast together with shapes (3,) (2,) "
     ]
    }
   ],
   "source": [
    "data = HMM_stock_predictor.extract_stock_features(GME_TEST,['Open', 'High', 'Low', 'Close','Volume'])\n",
    "prediction = HMM_stock_predictor.project(data)\n",
    "projection = list(HMM_stock_predictor.get_return(data,prediction))\n",
    "data_list = GME_TEST['close'].pct_change().dropna().values.flatten().tolist()"
   ]
  },
  {
   "cell_type": "code",
   "execution_count": null,
   "metadata": {
    "ExecuteTime": {
     "end_time": "2021-04-10T13:49:35.777133Z",
     "start_time": "2021-04-10T13:49:22.571Z"
    }
   },
   "outputs": [],
   "source": [
    "prediction"
   ]
  },
  {
   "cell_type": "code",
   "execution_count": 110,
   "metadata": {
    "ExecuteTime": {
     "end_time": "2021-04-08T04:31:16.168357Z",
     "start_time": "2021-04-08T04:31:15.592023Z"
    },
    "scrolled": false
   },
   "outputs": [
    {
     "data": {
      "image/png": "[encoded data removed]",
      "text/plain": [
       "<Figure size 1152x576 with 1 Axes>"
      ]
     },
     "metadata": {
      "needs_background": "light"
     },
     "output_type": "display_data"
    },
    {
     "data": {
      "image/png": "[encoded data removed]",
      "text/plain": [
       "<Figure size 1152x576 with 1 Axes>"
      ]
     },
     "metadata": {
      "needs_background": "light"
     },
     "output_type": "display_data"
    },
    {
     "data": {
      "image/png": "[encoded data removed]",
      "text/plain": [
       "<Figure size 1152x576 with 1 Axes>"
      ]
     },
     "metadata": {
      "needs_background": "light"
     },
     "output_type": "display_data"
    }
   ],
   "source": [
    "open_price = np.array(data.loc[:,'open'])\n",
    "\n",
    "predicted_frac_change, _, _, _ = np.array(list(zip(*prediction)))\n",
    "close_prediction = open_price * (1 + predicted_frac_change)\n",
    "pred_return = pd.Series(close_prediction).pct_change().dropna().values.flatten().tolist()\n",
    "\n",
    "actual_frac_change = np.array(HMM_stock_predictor.projection_data.frac_change)\n",
    "close_actual = open_price * (1 + actual_frac_change)\n",
    "actual_return = pd.Series(close_actual).pct_change().dropna().values.flatten().tolist()\n",
    "# # actual_state = list(map(states_mapping,actual_return))\n",
    "# # actual_state = [0 if v is None else v for v in actual_state]\n",
    "\n",
    "fig = plt.figure(figsize=(16,8))\n",
    "days = np.array(data.index, dtype=\"datetime64[ms]\")\n",
    "axes = fig.add_subplot(111)\n",
    "axes.plot(days, actual_frac_change, 'bo-', label=\"actual\")\n",
    "axes.plot(days, predicted_frac_change, 'r+-', label=\"predicted\")\n",
    "fig.autofmt_xdate()\n",
    "\n",
    "plt.legend()\n",
    "plt.show()\n",
    "\n",
    "fig = plt.figure(figsize=(16,8))\n",
    "days = np.array(data.index, dtype=\"datetime64[ms]\")\n",
    "axes = fig.add_subplot(111)\n",
    "axes.plot(days, close_actual, 'bo-', label=\"actual\")\n",
    "axes.plot(days, close_prediction, 'r+-', label=\"predicted\")\n",
    "fig.autofmt_xdate()\n",
    "\n",
    "plt.legend()\n",
    "plt.show()\n",
    "\n",
    "fig = plt.figure(figsize=(16,8))\n",
    "days = np.array(data.index[1:], dtype=\"datetime64[ms]\")\n",
    "axes = fig.add_subplot(111)\n",
    "axes.plot(days, actual_return, 'bo-', label=\"actual\")\n",
    "axes.plot(days, pred_return, 'r+-', label=\"predicted\")\n",
    "fig.autofmt_xdate()\n",
    "\n",
    "plt.legend()\n",
    "plt.show()"
   ]
  },
  {
   "cell_type": "code",
   "execution_count": 111,
   "metadata": {
    "ExecuteTime": {
     "end_time": "2021-04-08T04:31:16.320671Z",
     "start_time": "2021-04-08T04:31:16.317429Z"
    }
   },
   "outputs": [
    {
     "data": {
      "text/plain": [
       "-3.9848610757853145"
      ]
     },
     "execution_count": 111,
     "metadata": {},
     "output_type": "execute_result"
    }
   ],
   "source": [
    "r2_score(actual_frac_change, predicted_frac_change)"
   ]
  },
  {
   "cell_type": "code",
   "execution_count": 112,
   "metadata": {
    "ExecuteTime": {
     "end_time": "2021-04-08T04:31:16.480331Z",
     "start_time": "2021-04-08T04:31:16.476949Z"
    }
   },
   "outputs": [
    {
     "data": {
      "text/plain": [
       "-8.801088503814748"
      ]
     },
     "execution_count": 112,
     "metadata": {},
     "output_type": "execute_result"
    }
   ],
   "source": [
    "r2_score(close_actual, close_prediction)"
   ]
  },
  {
   "cell_type": "code",
   "execution_count": 113,
   "metadata": {
    "ExecuteTime": {
     "end_time": "2021-04-08T04:31:17.111247Z",
     "start_time": "2021-04-08T04:31:16.629606Z"
    }
   },
   "outputs": [
    {
     "data": {
      "text/plain": [
       "-5.2246628891415225"
      ]
     },
     "execution_count": 113,
     "metadata": {},
     "output_type": "execute_result"
    }
   ],
   "source": [
    "r2_score(actual_return, pred_return)"
   ]
  },
  {
   "cell_type": "code",
   "execution_count": null,
   "metadata": {},
   "outputs": [],
   "source": []
  }
 ],
 "metadata": {
  "kernelspec": {
   "display_name": "f10ds_spark_py36",
   "language": "python",
   "name": "f10ds_spark_py36"
  },
  "language_info": {
   "codemirror_mode": {
    "name": "ipython",
    "version": 3
   },
   "file_extension": ".py",
   "mimetype": "text/x-python",
   "name": "python",
   "nbconvert_exporter": "python",
   "pygments_lexer": "ipython3",
   "version": "3.6.9"
  },
  "varInspector": {
   "cols": {
    "lenName": 16,
    "lenType": 16,
    "lenVar": 40
   },
   "kernels_config": {
    "python": {
     "delete_cmd_postfix": "",
     "delete_cmd_prefix": "del ",
     "library": "var_list.py",
     "varRefreshCmd": "print(var_dic_list())"
    },
    "r": {
     "delete_cmd_postfix": ") ",
     "delete_cmd_prefix": "rm(",
     "library": "var_list.r",
     "varRefreshCmd": "cat(var_dic_list()) "
    }
   },
   "types_to_exclude": [
    "module",
    "function",
    "builtin_function_or_method",
    "instance",
    "_Feature"
   ],
   "window_display": false
  }
 },
 "nbformat": 4,
 "nbformat_minor": 2
}
